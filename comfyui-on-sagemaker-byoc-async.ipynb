{
 "cells": [
  {
   "cell_type": "markdown",
   "id": "54c880c6",
   "metadata": {
    "tags": []
   },
   "source": [
    "### 1. 升级boto3, sagemaker python sdk"
   ]
  },
  {
   "cell_type": "code",
   "execution_count": null,
   "id": "f17e7cdf",
   "metadata": {},
   "outputs": [],
   "source": [
    "!pip install --upgrade boto3 sagemaker"
   ]
  },
  {
   "cell_type": "code",
   "execution_count": 40,
   "id": "13486437",
   "metadata": {
    "tags": []
   },
   "outputs": [
    {
     "name": "stdout",
     "output_type": "stream",
     "text": [
      "account id:687912291502\n",
      "sagemaker sdk version: 2.232.2\n",
      "role:  arn:aws:iam::687912291502:role/service-role/AmazonSageMaker-ExecutionRole-20211013T113123  \n",
      "bucket:  sagemaker-us-west-2-687912291502\n"
     ]
    }
   ],
   "source": [
    "#导入对应的库\n",
    "\n",
    "import re\n",
    "import os\n",
    "import json\n",
    "import uuid\n",
    "\n",
    "import numpy as np\n",
    "import pandas as pd\n",
    "from time import gmtime, strftime\n",
    "\n",
    "\n",
    "import boto3\n",
    "import sagemaker\n",
    "\n",
    "from sagemaker import get_execution_role,session\n",
    "from sagemaker import Model, image_uris, serializers, deserializers\n",
    "\n",
    "role = get_execution_role()\n",
    "sage_session = session.Session()\n",
    "bucket = sage_session.default_bucket()\n",
    "aws_region = boto3.Session().region_name\n",
    "sts_client = boto3.client('sts')\n",
    "account_id = sts_client.get_caller_identity()['Account']\n",
    "print(f'account id:{account_id}')\n",
    "\n",
    "print(f'sagemaker sdk version: {sagemaker.__version__}\\nrole:  {role}  \\nbucket:  {bucket}')"
   ]
  },
  {
   "cell_type": "markdown",
   "id": "40088bc5",
   "metadata": {
    "tags": []
   },
   "source": [
    "### 2. 编译docker image (comfyui-inference)"
   ]
  },
  {
   "cell_type": "code",
   "execution_count": 41,
   "id": "6e12c79e-b795-4b99-bab8-400f9be2625b",
   "metadata": {
    "tags": []
   },
   "outputs": [
    {
     "name": "stdout",
     "output_type": "stream",
     "text": [
      "WARNING! Your password will be stored unencrypted in /home/ec2-user/.docker/config.json.\n",
      "Configure a credential helper to remove this warning. See\n",
      "https://docs.docker.com/engine/reference/commandline/login/#credentials-store\n",
      "\n",
      "Login Succeeded\n"
     ]
    }
   ],
   "source": [
    "## You should change below region code to the region you used, here sample is use us-west-2\n",
    "!aws ecr get-login-password --region us-west-2 | docker login --username AWS --password-stdin 763104351884.dkr.ecr.us-west-2.amazonaws.com"
   ]
  },
  {
   "cell_type": "code",
   "execution_count": null,
   "id": "28cd0cbc-361f-4838-be3f-88bb8628c8ca",
   "metadata": {
    "tags": []
   },
   "outputs": [],
   "source": [
    "!./build_and_push_async.sh"
   ]
  },
  {
   "cell_type": "code",
   "execution_count": 43,
   "id": "efbc709d",
   "metadata": {
    "tags": []
   },
   "outputs": [
    {
     "name": "stdout",
     "output_type": "stream",
     "text": [
      "dummy\n",
      "upload: ./model.tar.gz to s3://sagemaker-us-west-2-687912291502/stablediffusion/assets/model.tar.gz\n"
     ]
    }
   ],
   "source": [
    "!touch dummy\n",
    "!tar czvf model.tar.gz dummy\n",
    "assets_dir = 's3://{0}/{1}/assets/'.format(bucket, 'stablediffusion')\n",
    "model_data = 's3://{0}/{1}/assets/model.tar.gz'.format(bucket, 'stablediffusion')\n",
    "!aws s3 cp model.tar.gz $assets_dir\n",
    "!rm -f dummy model.tar.gz"
   ]
  },
  {
   "cell_type": "markdown",
   "id": "da982e13",
   "metadata": {
    "tags": []
   },
   "source": [
    "#### 3.1 创建dummy model_data 文件(真正的模型使用code/infernece.py进行加载)"
   ]
  },
  {
   "cell_type": "code",
   "execution_count": 44,
   "id": "35a1f1b2-25d8-4041-8fed-3afeb011e1da",
   "metadata": {
    "tags": []
   },
   "outputs": [
    {
     "name": "stdout",
     "output_type": "stream",
     "text": [
      "2024-10-23 08:59:13        116 model.tar.gz\n"
     ]
    }
   ],
   "source": [
    "!aws s3 ls s3://sagemaker-us-west-2-687912291502/stablediffusion/assets/model.tar.gz"
   ]
  },
  {
   "cell_type": "markdown",
   "id": "6e3557ab-3155-4e1e-ae6a-039ab72fcf00",
   "metadata": {
    "tags": []
   },
   "source": [
    "### 4. deploy(ssh debug inference）"
   ]
  },
  {
   "cell_type": "code",
   "execution_count": null,
   "id": "af12a825-7edb-49dd-983e-c1b8b957c1ec",
   "metadata": {},
   "outputs": [],
   "source": [
    "!pip install sagemaker_ssh_helper"
   ]
  },
  {
   "cell_type": "code",
   "execution_count": 46,
   "id": "56b3d7a0-e0f6-4799-a579-8ba545c426dc",
   "metadata": {
    "tags": []
   },
   "outputs": [],
   "source": [
    "env={\n",
    "        's3_bucket': bucket,\n",
    "        #'CLIP_MODEL_PATH': \"s3://sagemaker-us-west-2-687912291502/models/clip\",\n",
    "        'UNET_MODEL_PATH': \"s3://sagemaker-us-west-2-687912291502/models/flux\",\n",
    "        #'CONTROLNET_MODEL_PATH':\"s3://sagemaker-us-west-2-687912291502/models/controlnet\",\n",
    "        #'OTHER_MODEL_PATHS':\"sams|s3://sagemaker-us-west-2-687912291502/models/sam;grounding-dino|s3://sagemaker-us-west-2-687912291502/models/groundingdino\"\n",
    "    }"
   ]
  },
  {
   "cell_type": "code",
   "execution_count": 47,
   "id": "e8fa3ce2-27a4-41b3-bd15-29917505ac57",
   "metadata": {
    "tags": []
   },
   "outputs": [
    {
     "name": "stdout",
     "output_type": "stream",
     "text": [
      "687912291502.dkr.ecr.us-west-2.amazonaws.com/comfyui-inference:latest\n"
     ]
    }
   ],
   "source": [
    "container=f\"{account_id}.dkr.ecr.{aws_region}.amazonaws.com/comfyui-inference:latest\"\n",
    "print(container)"
   ]
  },
  {
   "cell_type": "code",
   "execution_count": 48,
   "id": "41003ca7-fd5e-4218-b919-29e8e2b9b6e5",
   "metadata": {
    "tags": []
   },
   "outputs": [],
   "source": [
    "from sagemaker_ssh_helper.wrapper import SSHModelWrapper\n",
    "import sagemaker\n",
    "from sagemaker.pytorch import PyTorchModel\n",
    "from sagemaker.async_inference.async_inference_config import AsyncInferenceConfig\n",
    "\n",
    "\n",
    "#container=\"687912291502.dkr.ecr.us-west-2.amazonaws.com/comfyui-inference:latest\"\n",
    "model = PyTorchModel(image_uri=container, \n",
    "              model_data=model_data, \n",
    "              role=role,\n",
    "              env=env,\n",
    "              dependencies=[SSHModelWrapper.dependency_dir()])"
   ]
  },
  {
   "cell_type": "code",
   "execution_count": 49,
   "id": "8e0e61cd",
   "metadata": {
    "tags": []
   },
   "outputs": [
    {
     "name": "stdout",
     "output_type": "stream",
     "text": [
      "---------------------------------!"
     ]
    },
    {
     "data": {
      "text/plain": [
       "<sagemaker.predictor_async.AsyncPredictor at 0x7ff17e46d8a0>"
      ]
     },
     "execution_count": 49,
     "metadata": {},
     "output_type": "execute_result"
    }
   ],
   "source": [
    "instance_type = \"ml.g5.2xlarge\"\n",
    "from sagemaker.async_inference.async_inference_config import AsyncInferenceConfig\n",
    "from sagemaker_ssh_helper.wrapper import SSHModelWrapper\n",
    "\n",
    "endpoint_name = sagemaker.utils.name_from_base(\"comfyui-byoc\")\n",
    "async_config = AsyncInferenceConfig(\n",
    "    output_path=f's3://sagemaker-{aws_region}-{account_id}/async-output',  # 替换为您的S3输出路径\n",
    ")\n",
    "\n",
    "ssh_wrapper = SSHModelWrapper.create(model, connection_wait_time_seconds=0)\n",
    "model.deploy(initial_instance_count=1,\n",
    "             instance_type=instance_type,\n",
    "             endpoint_name=endpoint_name,\n",
    "             container_startup_health_check_timeout=800,\n",
    "             async_inference_config=async_config\n",
    "            )\n",
    "# our requests and responses will be in json format so we specify the serializer and the deserializer\n",
    "\n",
    "#print(f\"To connect over SSH run: sm-local-ssh-training connect {ssh_wrapper.training_job_name()}\")\n"
   ]
  },
  {
   "cell_type": "code",
   "execution_count": 50,
   "id": "9f585468-f0a0-48dc-9021-99eb40852e1b",
   "metadata": {},
   "outputs": [
    {
     "name": "stdout",
     "output_type": "stream",
     "text": [
      "To connect over SSM run: aws ssm start-session --target mi-04c5b4fba26a24360\n"
     ]
    }
   ],
   "source": [
    "instance_ids = ssh_wrapper.get_instance_ids(timeout_in_sec=900)  # <--NEW-- \n",
    "print(f\"To connect over SSM run: aws ssm start-session --target {instance_ids[0]}\")"
   ]
  },
  {
   "cell_type": "markdown",
   "id": "ab7868e7",
   "metadata": {
    "tags": []
   },
   "source": [
    "## 4.测试"
   ]
  },
  {
   "cell_type": "markdown",
   "id": "c73894c5-1667-4daf-9cc3-51d7fe983368",
   "metadata": {
    "tags": []
   },
   "source": [
    "#### 4.1 创建测试辅助方法 "
   ]
  },
  {
   "cell_type": "code",
   "execution_count": 62,
   "id": "938f36fc-ef9b-4eed-afa5-4f2b81967b6b",
   "metadata": {},
   "outputs": [],
   "source": [
    "import time\n",
    "import datetime\n",
    "import uuid\n",
    "import io\n",
    "import traceback\n",
    "from PIL import Image\n",
    "import boto3\n",
    "import json\n",
    "import matplotlib.pyplot as plt\n",
    "from PIL import Image\n",
    "\n",
    "s3_client = boto3.client('s3')\n",
    "s3_resource = boto3.resource('s3')\n",
    "\n",
    "def get_bucket_and_key(s3uri):\n",
    "    pos = s3uri.find('/', 5)\n",
    "    bucket = s3uri[5 : pos]\n",
    "    key = s3uri[pos + 1 : ]\n",
    "    return bucket, key\n",
    "\n",
    "\n",
    "def predict_async(endpoint_name,payload):\n",
    "    runtime_client = boto3.client('runtime.sagemaker')\n",
    "    input_file=str(uuid.uuid4())+\".json\"\n",
    "    s3_client = boto3.resource('s3')\n",
    "    s3_object = s3_client.Object(bucket, f'stablediffusion/asyncinvoke/input/{input_file}')\n",
    "    payload_data = json.dumps(payload).encode('utf-8')\n",
    "    s3_object.put( Body=bytes(payload_data))\n",
    "    input_location=f's3://{bucket}/stablediffusion/asyncinvoke/input/{input_file}'\n",
    "    print(f'input_location: {input_location}')\n",
    "    response = runtime_client.invoke_endpoint_async(\n",
    "        EndpointName=endpoint_name,\n",
    "        InputLocation=input_location\n",
    "    )\n",
    "    result =response.get(\"OutputLocation\",'')\n",
    "    wait_async_result(result)\n",
    "\n",
    "\n",
    "def s3_object_exists(s3_path):\n",
    "    \"\"\"\n",
    "    s3_object_exists\n",
    "    \"\"\"\n",
    "    try:\n",
    "        s3 = boto3.client('s3')\n",
    "        base_name=os.path.basename(s3_path)\n",
    "        _,ext_name=os.path.splitext(base_name)\n",
    "        bucket,key=get_bucket_and_key(s3_path)\n",
    "        \n",
    "        s3.head_object(Bucket=bucket, Key=key)\n",
    "        return True\n",
    "    except Exception as ex:\n",
    "        print(\"job is not completed, waiting...\")   \n",
    "        return False\n",
    "\n",
    "def get_result(output_location):\n",
    "    try:\n",
    "        bucket, key = get_bucket_and_key(output_location)\n",
    "        print(\"here2===\",bucket,key)\n",
    "        obj = s3_resource.Object(bucket, key)\n",
    "        body = obj.get()['Body'].read().decode('utf-8') \n",
    "        predictions = json.loads(body)\n",
    "        print(\"async result:\",predictions)\n",
    "        return predictions\n",
    "    except Exception as e:\n",
    "        print(\"get result execption...\",e)   \n",
    "\n",
    "\n",
    "def show_image(result):\n",
    "    try:\n",
    "        for image in result['prediction']:\n",
    "            bucket, key = get_bucket_and_key(image)\n",
    "            obj = s3_client.get_object(Bucket=bucket, Key=key)\n",
    "            bytes = obj['Body'].read()\n",
    "            image = Image.open(io.BytesIO(bytes))\n",
    "            #resize image to 50% size\n",
    "            half = 0.5\n",
    "            out_image = image.resize([int(half * s) for s in image.size])\n",
    "            out_image.show()\n",
    "\n",
    "    except Exception as e:\n",
    "        print(\"result is not completed, waiting...\")\n",
    "\n",
    "\n",
    "def show_gifs(result):\n",
    "    import base64\n",
    "    from IPython import display\n",
    "    try:\n",
    "        predictions = result['prediction']\n",
    "        s3_file_path = predictions[0]\n",
    "        print(\"s3 generated gifs path is {}\".format(s3_file_path))\n",
    "        bucket_name, key = get_bucket_and_key(s3_file_path)\n",
    "        timestamp = datetime.datetime.now().strftime('%Y%m%d%H%M%S')\n",
    "        local_file_path=\"./ComfyUI_\"+timestamp+\".gif\"\n",
    "        s3_client.download_file(bucket_name, key, local_file_path)\n",
    "        with open(local_file_path, 'rb') as fd:\n",
    "            b64 = base64.b64encode(fd.read()).decode('ascii')\n",
    "        return display.HTML(f'<img src=\"data:image/gif;base64,{b64}\" />')\n",
    "    except Exception as e:\n",
    "        print(e)\n",
    "        print(\"result is not completed, waiting...\")\n",
    "\n",
    "        \n",
    "def wait_async_result(output_location,timeout=60):\n",
    "    current_time=0\n",
    "    result = None\n",
    "    while current_time<timeout:\n",
    "        if s3_object_exists(output_location):\n",
    "            print(\"have async result\",output_location)\n",
    "            result=get_result(output_location)\n",
    "            break\n",
    "        else:\n",
    "            time.sleep(5)\n",
    "    return result\n",
    "\n",
    "def check_sendpoint_status(endpoint_name,timeout=600):\n",
    "    client = boto3.client('sagemaker')\n",
    "    current_time=0\n",
    "    while current_time<timeout:\n",
    "        client = boto3.client('sagemaker')\n",
    "        try:\n",
    "            response = client.describe_endpoint(\n",
    "            EndpointName=endpoint_name\n",
    "            )\n",
    "            if response['EndpointStatus'] !='InService':\n",
    "                raise Exception (f'{endpoint_name} not ready , please wait....')\n",
    "        except Exception as ex:\n",
    "            print(f'{endpoint_name} not ready , please wait....')\n",
    "            time.sleep(10)\n",
    "        else:\n",
    "            status = response['EndpointStatus']\n",
    "            print(f'{endpoint_name} is ready, status: {status}')\n",
    "            break"
   ]
  },
  {
   "cell_type": "code",
   "execution_count": 63,
   "id": "f4de0b04-a4bc-4ff3-bb1d-5e64663c991a",
   "metadata": {
    "tags": []
   },
   "outputs": [],
   "source": [
    "endpoint_name=\"comfyui-byoc-2024-10-23-08-59-18-072\""
   ]
  },
  {
   "cell_type": "markdown",
   "id": "7120418e-140d-4218-8578-60e679de2b85",
   "metadata": {
    "tags": []
   },
   "source": [
    "#### 5. 测试flux workflow"
   ]
  },
  {
   "cell_type": "code",
   "execution_count": 64,
   "id": "c1b063c2-216b-460c-bf8f-714b04a335ce",
   "metadata": {
    "tags": []
   },
   "outputs": [
    {
     "name": "stdout",
     "output_type": "stream",
     "text": [
      "input_location: s3://sagemaker-us-west-2-687912291502/stablediffusion/asyncinvoke/input/5c7447f6-e80b-4625-b045-8d7255ea9172.json\n",
      "job is not completed, waiting...\n",
      "job is not completed, waiting...\n",
      "have async result s3://sagemaker-us-west-2-687912291502/async-output/d99be5df-a926-4a0f-bc88-a9cb06a48f37.out\n",
      "here2=== sagemaker-us-west-2-687912291502 async-output/d99be5df-a926-4a0f-bc88-a9cb06a48f37.out\n",
      "get result execption... 'S3' object has no attribute 'Object'\n"
     ]
    }
   ],
   "source": [
    "import uuid\n",
    "import json\n",
    "import base64\n",
    "\n",
    "def image_to_base64(image_path):\n",
    "    try:\n",
    "        with open(image_path, \"rb\") as image_file:\n",
    "            # 读取图像文件\n",
    "            image_data = image_file.read()\n",
    "            # 将图像数据转换为Base64编码\n",
    "            base64_encoded = base64.b64encode(image_data).decode('utf-8')\n",
    "            return base64_encoded\n",
    "    except IOError:\n",
    "        print(f\"无法读取文件: {image_path}\")\n",
    "        return None\n",
    "\n",
    "prompt_json_file=\"./sample_workflows/flux_workflow_api.json\"\n",
    "prompt_text=\"\"\n",
    "with open(prompt_json_file) as f:\n",
    "    prompt_text = json.load(f)\n",
    "\n",
    "prompt_text['6']['inputs']['text']= \"A Fox running on the black forest, the sun is shining\"\n",
    "\n",
    "client_id = str(uuid.uuid4())\n",
    "payload={\n",
    "     \"client_id\":client_id,\n",
    "     \"prompt\": prompt_text,\n",
    "     \"inference_type\":\"text2img\",\n",
    "     \"method\":\"queue_prompt\"\n",
    "}\n",
    "result = predict_async(endpoint_name,payload)"
   ]
  },
  {
   "cell_type": "code",
   "execution_count": null,
   "id": "2dd73996-0a47-43a8-94ad-d40edc29ac4d",
   "metadata": {
    "tags": []
   },
   "outputs": [],
   "source": [
    "show_image(result)"
   ]
  },
  {
   "cell_type": "code",
   "execution_count": null,
   "id": "e46e9f03-e21d-43f1-919e-da676235d447",
   "metadata": {
    "tags": []
   },
   "outputs": [],
   "source": [
    "!aws s3 cp s3://sagemaker-us-west-2-687912291502/comfyui_output/images/0549ac24-62ab-4d4a-b9c1-c97e2aa96dbc.jpg ./"
   ]
  },
  {
   "cell_type": "markdown",
   "id": "92a7d1b7-7186-4173-9e7f-1d3e7eaee547",
   "metadata": {
    "tags": []
   },
   "source": [
    "### 5 清除资源"
   ]
  },
  {
   "cell_type": "markdown",
   "id": "e045309a-e375-4264-b86b-2177bd87ed10",
   "metadata": {},
   "source": [
    "* gui demo "
   ]
  },
  {
   "cell_type": "code",
   "execution_count": null,
   "id": "004b7f2b-6735-4826-8d48-50196e8a53f3",
   "metadata": {
    "tags": []
   },
   "outputs": [],
   "source": [
    "!pip install gradio==4.44.1"
   ]
  },
  {
   "cell_type": "code",
   "execution_count": null,
   "id": "bbb0383e-3cca-49f3-9132-bc50ab65a8b0",
   "metadata": {
    "tags": []
   },
   "outputs": [],
   "source": [
    "!python deploy_gui_async.py"
   ]
  },
  {
   "cell_type": "code",
   "execution_count": null,
   "id": "e29d998d",
   "metadata": {},
   "outputs": [],
   "source": [
    "response = client.delete_endpoint(\n",
    "    EndpointName=endpoint_name\n",
    "    \n",
    ")\n",
    "\n",
    "response = client.delete_endpoint_config(\n",
    "    EndpointConfigName=endpoint_config_name\n",
    ")\n",
    "\n",
    "\n",
    "print(f'终端节点:{endpoint_name} 已经被清除，请在控制台上查看状态')\n"
   ]
  }
 ],
 "metadata": {
  "kernelspec": {
   "display_name": "conda_python3",
   "language": "python",
   "name": "conda_python3"
  },
  "language_info": {
   "codemirror_mode": {
    "name": "ipython",
    "version": 3
   },
   "file_extension": ".py",
   "mimetype": "text/x-python",
   "name": "python",
   "nbconvert_exporter": "python",
   "pygments_lexer": "ipython3",
   "version": "3.10.12"
  }
 },
 "nbformat": 4,
 "nbformat_minor": 5
}
