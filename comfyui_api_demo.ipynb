{
 "cells": [
  {
   "cell_type": "markdown",
   "id": "32beaffe-1fbb-4365-9483-b6192188dd2c",
   "metadata": {
    "tags": []
   },
   "source": [
    "### initialize env & comfyui lib ###"
   ]
  },
  {
   "cell_type": "code",
   "execution_count": 4,
   "id": "e7839da1-0937-485f-a9b6-dbd89d6f12b9",
   "metadata": {
    "tags": []
   },
   "outputs": [
    {
     "name": "stdout",
     "output_type": "stream",
     "text": [
      "Requirement already satisfied: websocket-client in /home/ec2-user/anaconda3/envs/pytorch_p310/lib/python3.10/site-packages (1.7.0)\n",
      "Requirement already satisfied: requests in /home/ec2-user/anaconda3/envs/pytorch_p310/lib/python3.10/site-packages (2.31.0)\n",
      "Requirement already satisfied: charset-normalizer<4,>=2 in /home/ec2-user/anaconda3/envs/pytorch_p310/lib/python3.10/site-packages (from requests) (3.2.0)\n",
      "Requirement already satisfied: idna<4,>=2.5 in /home/ec2-user/anaconda3/envs/pytorch_p310/lib/python3.10/site-packages (from requests) (3.4)\n",
      "Requirement already satisfied: urllib3<3,>=1.21.1 in /home/ec2-user/anaconda3/envs/pytorch_p310/lib/python3.10/site-packages (from requests) (1.26.18)\n",
      "Requirement already satisfied: certifi>=2017.4.17 in /home/ec2-user/anaconda3/envs/pytorch_p310/lib/python3.10/site-packages (from requests) (2023.5.7)\n"
     ]
    }
   ],
   "source": [
    "!pip3 install websocket-client\n",
    "!pip3 install -U requests"
   ]
  },
  {
   "cell_type": "code",
   "execution_count": 8,
   "id": "104dc0b2-392e-41a9-bdba-7af93b63bb55",
   "metadata": {
    "tags": []
   },
   "outputs": [
    {
     "data": {
      "text/plain": [
       "'sagemaker-us-west-2-687912291502'"
      ]
     },
     "execution_count": 8,
     "metadata": {},
     "output_type": "execute_result"
    }
   ],
   "source": [
    "sagemaker_default_bucket"
   ]
  },
  {
   "cell_type": "code",
   "execution_count": 7,
   "id": "eb8a0277-fede-485e-b451-352cd40bcd37",
   "metadata": {
    "tags": []
   },
   "outputs": [
    {
     "name": "stdout",
     "output_type": "stream",
     "text": [
      "sagemaker.config INFO - Not applying SDK defaults from location: /etc/xdg/sagemaker/config.yaml\n",
      "sagemaker.config INFO - Not applying SDK defaults from location: /home/ec2-user/.config/sagemaker/config.yaml\n"
     ]
    }
   ],
   "source": [
    "import sagemaker\n",
    "import boto3\n",
    "from sagemaker import get_execution_role\n",
    "\n",
    "sess = sagemaker.Session()\n",
    "role = get_execution_role()\n",
    "sagemaker_default_bucket = sess.default_bucket()\n",
    "\n",
    "account = sess.boto_session.client(\"sts\").get_caller_identity()[\"Account\"]\n",
    "region = sess.boto_session.region_name"
   ]
  },
  {
   "cell_type": "markdown",
   "id": "57b81105-868f-484f-9d1d-31585656876e",
   "metadata": {},
   "source": [
    "### funcs for comfyui"
   ]
  },
  {
   "cell_type": "code",
   "execution_count": 4,
   "id": "4bdf3a32-8805-4181-96d9-1b804d8768c2",
   "metadata": {
    "tags": []
   },
   "outputs": [],
   "source": [
    "import websocket\n",
    "import uuid\n",
    "import json\n",
    "import urllib.request\n",
    "import urllib.parse\n",
    "import base64\n",
    "\n",
    "#server_address = \"ec2-34-222-223-235.us-west-2.compute.amazonaws.com:8188\"\n",
    "server_address = \"ec2-35-91-44-198.us-west-2.compute.amazonaws.com:8188\"\n",
    "client_id = str(uuid.uuid4())\n",
    "\n",
    "def queue_prompt(prompt):\n",
    "    print(prompt)\n",
    "    p = {\"prompt\": prompt, \"client_id\": client_id}\n",
    "    data = json.dumps(p).encode('utf-8')\n",
    "    url = \"http://\"+server_address+\"/prompt\"\n",
    "    req = urllib.request.Request(url, data=data)\n",
    "    #req =  urllib.request.Request(\"http://ec2-34-222-223-235.us-west-2.compute.amazonaws.com:8188/prompt\", data=data)\n",
    "    return json.loads(urllib.request.urlopen(req).read())\n",
    "\n",
    "def get_image_privew(filename):\n",
    "    url = \"http://{}/view?filename={}&type=output\".format(server_address,filename)\n",
    "    with urllib.request.urlopen(url) as response:\n",
    "        return response.read()\n",
    "\n",
    "def get_image(filename, subfolder, folder_type):\n",
    "    data = {\"filename\": filename, \"subfolder\": subfolder, \"type\": folder_type}\n",
    "    url_values = urllib.parse.urlencode(data)\n",
    "    with urllib.request.urlopen(\"http://{}/view?{}\".format(server_address, url_values)) as response:\n",
    "        return response.read()\n",
    "\n",
    "def get_history(prompt_id):\n",
    "    with urllib.request.urlopen(\"http://{}/history/{}\".format(server_address, prompt_id)) as response:\n",
    "        return json.loads(response.read())\n",
    "\n",
    "def get_images(ws, prompt):\n",
    "    prompt_id = queue_prompt(prompt)['prompt_id']\n",
    "    print(\"prompt_id==\"+prompt_id)\n",
    "    output_images = {}\n",
    "    while True:\n",
    "        out = ws.recv()\n",
    "        if isinstance(out, str):\n",
    "            message = json.loads(out)\n",
    "            if message['type'] == 'executing':\n",
    "                data = message['data']\n",
    "                if data['node'] is None and data['prompt_id'] == prompt_id:\n",
    "                    break #Execution is done\n",
    "        else:\n",
    "            continue #previews are binary data\n",
    "\n",
    "    history = get_history(prompt_id)[prompt_id]\n",
    "    for o in history['outputs']:\n",
    "        print(\"output==\")\n",
    "        print(o)\n",
    "        for node_id in history['outputs']:\n",
    "            node_output = history['outputs'][node_id]\n",
    "            if 'images' in node_output:\n",
    "                images_output = []\n",
    "                for image in node_output['images']:\n",
    "                    image_data = get_image(image['filename'], image['subfolder'], image['type'])\n",
    "                    #image_data = get_image_privew(image['filename'])\n",
    "                    print(\"image data==\\n\")\n",
    "                    #image_text = (image_data).decode('utf-8') \n",
    "                    print(image_data)\n",
    "                    images_output.append(image_data)\n",
    "                output_images[node_id] = images_output\n",
    "            # video branch\n",
    "            if 'gifs' in node_output:\n",
    "                videos_output = []\n",
    "                for video in node_output['gifs']:\n",
    "                    video_data = get_image(video['filename'], video['subfolder'], video['type'])\n",
    "                    videos_output.append(video_data)\n",
    "                output_images[node_id] = videos_output\n",
    "\n",
    "    return output_images"
   ]
  },
  {
   "cell_type": "markdown",
   "id": "252d9c41-348c-4caa-8c96-9c6487bffbad",
   "metadata": {
    "tags": []
   },
   "source": [
    "### 生图 test"
   ]
  },
  {
   "cell_type": "code",
   "execution_count": 2,
   "id": "be598c60-6d57-4938-80ed-70a55030a8fd",
   "metadata": {
    "tags": []
   },
   "outputs": [],
   "source": [
    "prompt_text = \"\"\"\n",
    "{\n",
    "    \"3\": {\n",
    "        \"class_type\": \"KSampler\",\n",
    "        \"inputs\": {\n",
    "            \"cfg\": 8,\n",
    "            \"denoise\": 1,\n",
    "            \"latent_image\": [\n",
    "                \"5\",\n",
    "                0\n",
    "            ],\n",
    "            \"model\": [\n",
    "                \"4\",\n",
    "                0\n",
    "            ],\n",
    "            \"negative\": [\n",
    "                \"7\",\n",
    "                0\n",
    "            ],\n",
    "            \"positive\": [\n",
    "                \"6\",\n",
    "                0\n",
    "            ],\n",
    "            \"sampler_name\": \"euler\",\n",
    "            \"scheduler\": \"normal\",\n",
    "            \"seed\": 8566257,\n",
    "            \"steps\": 20\n",
    "        }\n",
    "    },\n",
    "    \"4\": {\n",
    "        \"class_type\": \"CheckpointLoaderSimple\",\n",
    "        \"inputs\": {\n",
    "            \"ckpt_name\": \"cardosAnime_v20.safetensors\"\n",
    "        }\n",
    "    },\n",
    "    \"5\": {\n",
    "        \"class_type\": \"EmptyLatentImage\",\n",
    "        \"inputs\": {\n",
    "            \"batch_size\": 1,\n",
    "            \"height\": 512,\n",
    "            \"width\": 512\n",
    "        }\n",
    "    },\n",
    "    \"6\": {\n",
    "        \"class_type\": \"CLIPTextEncode\",\n",
    "        \"inputs\": {\n",
    "            \"clip\": [\n",
    "                \"4\",\n",
    "                1\n",
    "            ],\n",
    "            \"text\": \"masterpiece best quality girl,naked\"\n",
    "        }\n",
    "    },\n",
    "    \"7\": {\n",
    "        \"class_type\": \"CLIPTextEncode\",\n",
    "        \"inputs\": {\n",
    "            \"clip\": [\n",
    "                \"4\",\n",
    "                1\n",
    "            ],\n",
    "            \"text\": \"bad hands\"\n",
    "        }\n",
    "    },\n",
    "    \"8\": {\n",
    "        \"class_type\": \"VAEDecode\",\n",
    "        \"inputs\": {\n",
    "            \"samples\": [\n",
    "                \"3\",\n",
    "                0\n",
    "            ],\n",
    "            \"vae\": [\n",
    "                \"4\",\n",
    "                2\n",
    "            ]\n",
    "        }\n",
    "    },\n",
    "    \"9\": {\n",
    "        \"class_type\": \"SaveImage\",\n",
    "        \"inputs\": {\n",
    "            \"filename_prefix\": \"ComfyUI\",\n",
    "            \"images\": [\n",
    "                \"8\",\n",
    "                0\n",
    "            ]\n",
    "        }\n",
    "    }\n",
    "}\n",
    "\"\"\"\n",
    "\n"
   ]
  },
  {
   "cell_type": "code",
   "execution_count": null,
   "id": "3033e55c-92d5-4d73-b329-d8d6ec7eefe2",
   "metadata": {
    "tags": []
   },
   "outputs": [],
   "source": [
    "prompt = json.loads(prompt_text)\n",
    "prompt[\"6\"][\"inputs\"][\"text\"] = \"masterpiece best quality man\"\n",
    "prompt[\"3\"][\"inputs\"][\"seed\"] = 5\n",
    "\n",
    "ws = websocket.WebSocket()\n",
    "ws.connect(\"ws://{}/ws?clientId={}\".format(server_address, client_id))\n",
    "images = get_images(ws, prompt)"
   ]
  },
  {
   "cell_type": "code",
   "execution_count": null,
   "id": "08d450cd-38a3-4738-b858-67dc4c24157d",
   "metadata": {
    "tags": []
   },
   "outputs": [],
   "source": [
    "from PIL import Image\n",
    "import io\n",
    "view_images=[]\n",
    "for node_id in images:\n",
    "    for image_data in images[node_id]:\n",
    "        image = Image.open(io.BytesIO(image_data))\n",
    "        view_images.append(image)\n",
    "        \n",
    "for view_image in view_images:\n",
    "    image.show()   "
   ]
  },
  {
   "cell_type": "markdown",
   "id": "7d3f386a-54e8-4b08-a269-8ccbdecc5cf6",
   "metadata": {
    "tags": []
   },
   "source": [
    "### 生视频test"
   ]
  },
  {
   "cell_type": "code",
   "execution_count": 5,
   "id": "ed35aa04-1f03-4f8a-9d69-27611d4eb474",
   "metadata": {
    "tags": []
   },
   "outputs": [
    {
     "name": "stdout",
     "output_type": "stream",
     "text": [
      "<class 'dict'>\n",
      "{'1': {'inputs': {'ckpt_name': 'v1-5-pruned-emaonly.safetensors'}, 'class_type': 'CheckpointLoaderSimple'}, '3': {'inputs': {'model_name': 'mm_sd_v15_v2.ckpt', 'beta_schedule': 'sqrt_linear (AnimateDiff)', 'motion_scale': 1, 'apply_v2_models_properly': True, 'model': ['1', 0], 'context_options': ['4', 0]}, 'class_type': 'ADE_AnimateDiffLoaderWithContext'}, '4': {'inputs': {'context_length': 16, 'context_stride': 1, 'context_overlap': 4, 'context_schedule': 'uniform', 'closed_loop': False}, 'class_type': 'ADE_AnimateDiffUniformContextOptions'}, '5': {'inputs': {'vae_name': 'vae-ft-mse-840000-ema-pruned.safetensors'}, 'class_type': 'VAELoader'}, '6': {'inputs': {'text': '1girl, solo, outdoor, autumn season, golden leaves, red leaves, falling leaves, black eyes, upper body, from side', 'clip': ['1', 1]}, 'class_type': 'CLIPTextEncode'}, '7': {'inputs': {'text': '(worst quality, low quality:1.4)', 'clip': ['1', 1]}, 'class_type': 'CLIPTextEncode'}, '8': {'inputs': {'sampling': 'lcm', 'zsnr': False, 'model': ['3', 0]}, 'class_type': 'ModelSamplingDiscrete'}, '9': {'inputs': {'seed': 888888892, 'steps': 30, 'cfg': 1.5, 'sampler_name': 'ddpm', 'scheduler': 'sgm_uniform', 'denoise': 1, 'model': ['8', 0], 'positive': ['6', 0], 'negative': ['7', 0], 'latent_image': ['10', 0]}, 'class_type': 'KSampler'}, '10': {'inputs': {'width': 512, 'height': 512, 'batch_size': 24}, 'class_type': 'EmptyLatentImage'}, '14': {'inputs': {'frame_rate': 8, 'loop_count': 0, 'filename_prefix': 'AnimateDiff_LCM', 'format': 'image/gif', 'pingpong': False, 'save_image': True, 'crf': 20, 'save_metadata': True, 'audio_file': '', 'videopreview': {'hidden': False, 'paused': False, 'params': {'filename': 'AnimateDiff_LCM_00008.gif', 'subfolder': '', 'type': 'output', 'format': 'image/gif'}}, 'images': ['16', 0]}, 'class_type': 'VHS_VideoCombine'}, '16': {'inputs': {'samples': ['9', 0], 'vae': ['5', 0]}, 'class_type': 'VAEDecode'}}\n",
      "prompt_id==02d8a20e-ebf4-4ee1-8b18-9bdabbeff0a7\n",
      "output==\n",
      "14\n",
      "time elapse:113.643281 seconds\n",
      "/home/ec2-user/SageMaker/comfyui_output/Comfyui_14.gif\n"
     ]
    }
   ],
   "source": [
    "import time\n",
    "import json\n",
    "WORKING_DIR=\"/home/ec2-user/SageMaker/comfyui_output\"\n",
    "def show_gif(fname):\n",
    "    import base64\n",
    "    from IPython import display\n",
    "    with open(fname, 'rb') as fd:\n",
    "        b64 = base64.b64encode(fd.read()).decode('ascii')\n",
    "    return display.HTML(f'<img src=\"data:image/gif;base64,{b64}\" />')\n",
    "\n",
    "\n",
    "prompt_json_file=\"./workflow_api_magic_animate.json\"\n",
    "with open(prompt_json_file) as f:\n",
    "  prompt = json.load(f)\n",
    "\n",
    "print(type(prompt))\n",
    "ws = websocket.WebSocket()\n",
    "ws.connect(\"ws://{}/ws?clientId={}\".format(server_address, client_id))\n",
    "start_dt=time.time()\n",
    "images = get_images(ws, prompt)\n",
    "end_dt=time.time()\n",
    "print(\"time elapse:{:.6f} seconds\".format(end_dt-start_dt))\n",
    "\n",
    "for node_id in images:\n",
    "    for image_data in images[node_id]:\n",
    "        from PIL import Image\n",
    "        import io\n",
    "        GIF_LOCATION = \"{}/Comfyui_{}.gif\".format(WORKING_DIR, node_id)\n",
    "        print(GIF_LOCATION)\n",
    "        with open(GIF_LOCATION, \"wb\") as binary_file:\n",
    "            # Write bytes to file\n",
    "            binary_file.write(image_data)\n",
    "\n",
    "        #show_gif(GIF_LOCATION)"
   ]
  },
  {
   "cell_type": "code",
   "execution_count": null,
   "id": "c0398dc7-0dbd-44d8-9864-c209661b6464",
   "metadata": {},
   "outputs": [],
   "source": []
  }
 ],
 "metadata": {
  "kernelspec": {
   "display_name": "conda_pytorch_p310",
   "language": "python",
   "name": "conda_pytorch_p310"
  },
  "language_info": {
   "codemirror_mode": {
    "name": "ipython",
    "version": 3
   },
   "file_extension": ".py",
   "mimetype": "text/x-python",
   "name": "python",
   "nbconvert_exporter": "python",
   "pygments_lexer": "ipython3",
   "version": "3.10.12"
  }
 },
 "nbformat": 4,
 "nbformat_minor": 5
}
