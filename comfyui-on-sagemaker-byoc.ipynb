{
 "cells": [
  {
   "cell_type": "markdown",
   "id": "54c880c6",
   "metadata": {},
   "source": [
    "### 1. 升级boto3, sagemaker python sdk"
   ]
  },
  {
   "cell_type": "code",
   "execution_count": null,
   "id": "f17e7cdf",
   "metadata": {},
   "outputs": [],
   "source": [
    "!pip install --upgrade boto3 sagemaker"
   ]
  },
  {
   "cell_type": "code",
   "execution_count": 1,
   "id": "13486437",
   "metadata": {
    "tags": []
   },
   "outputs": [
    {
     "name": "stdout",
     "output_type": "stream",
     "text": [
      "sagemaker.config INFO - Not applying SDK defaults from location: /etc/xdg/sagemaker/config.yaml\n",
      "sagemaker.config INFO - Not applying SDK defaults from location: /home/ec2-user/.config/sagemaker/config.yaml\n",
      "sagemaker sdk version: 2.203.1\n",
      "role:  arn:aws:iam::687912291502:role/service-role/AmazonSageMaker-ExecutionRole-20211013T113123  \n",
      "bucket:  sagemaker-us-west-2-687912291502\n"
     ]
    }
   ],
   "source": [
    "#导入对应的库\n",
    "\n",
    "import re\n",
    "import os\n",
    "import json\n",
    "import uuid\n",
    "\n",
    "import numpy as np\n",
    "import pandas as pd\n",
    "from time import gmtime, strftime\n",
    "\n",
    "\n",
    "import boto3\n",
    "import sagemaker\n",
    "\n",
    "from sagemaker import get_execution_role,session\n",
    "from sagemaker import Model, image_uris, serializers, deserializers\n",
    "\n",
    "role = get_execution_role()\n",
    "sage_session = session.Session()\n",
    "bucket = sage_session.default_bucket()\n",
    "aws_region = boto3.Session().region_name\n",
    "\n",
    "print(f'sagemaker sdk version: {sagemaker.__version__}\\nrole:  {role}  \\nbucket:  {bucket}')"
   ]
  },
  {
   "cell_type": "markdown",
   "id": "40088bc5",
   "metadata": {},
   "source": [
    "### 2. 编译docker image (comfyui-inference)"
   ]
  },
  {
   "cell_type": "code",
   "execution_count": null,
   "id": "6e12c79e-b795-4b99-bab8-400f9be2625b",
   "metadata": {
    "tags": []
   },
   "outputs": [],
   "source": [
    "## You should change below region code to the region you used, here sample is use us-west-2\n",
    "!aws ecr get-login-password --region us-west-2 | docker login --username AWS --password-stdin 763104351884.dkr.ecr.us-west-2.amazonaws.com"
   ]
  },
  {
   "cell_type": "code",
   "execution_count": null,
   "id": "47a1eac8",
   "metadata": {
    "tags": []
   },
   "outputs": [],
   "source": [
    "!./build_and_push.sh"
   ]
  },
  {
   "cell_type": "markdown",
   "id": "9083af1b",
   "metadata": {},
   "source": [
    "### 3. 部署Comfyui推理服务"
   ]
  },
  {
   "cell_type": "markdown",
   "id": "da982e13",
   "metadata": {},
   "source": [
    "#### 3.1 创建dummy model_data 文件(真正的模型使用code/infernece.py进行加载)"
   ]
  },
  {
   "cell_type": "code",
   "execution_count": null,
   "id": "efbc709d",
   "metadata": {},
   "outputs": [],
   "source": [
    "!touch dummy\n",
    "!tar czvf model.tar.gz dummy\n",
    "assets_dir = 's3://{0}/{1}/assets/'.format(bucket, 'stablediffusion')\n",
    "model_data = 's3://{0}/{1}/assets/model.tar.gz'.format(bucket, 'stablediffusion')\n",
    "!aws s3 cp model.tar.gz $assets_dir\n",
    "!rm -f dummy model.tar.gz"
   ]
  },
  {
   "cell_type": "code",
   "execution_count": null,
   "id": "35a1f1b2-25d8-4041-8fed-3afeb011e1da",
   "metadata": {
    "tags": []
   },
   "outputs": [],
   "source": [
    "!aws s3 ls s3://sagemaker-us-west-2-687912291502/stablediffusion/assets/model.tar.gz"
   ]
  },
  {
   "cell_type": "markdown",
   "id": "f53d36b8",
   "metadata": {},
   "source": [
    "#### 3.2 创建 model 配置"
   ]
  },
  {
   "cell_type": "code",
   "execution_count": 48,
   "id": "2d9c3289",
   "metadata": {},
   "outputs": [],
   "source": [
    "\n",
    "boto3_session = boto3.session.Session()\n",
    "current_region=boto3_session.region_name\n",
    "\n",
    "client = boto3.client(\"sts\")\n",
    "account_id=client.get_caller_identity()[\"Account\"]\n",
    "\n",
    "client = boto3.client('sagemaker')\n",
    "\n",
    "#使用步骤2编译好的docker images\n",
    "#默认名字为: comfyui-inference-v2\n",
    "container = f'{account_id}.dkr.ecr.{current_region}.amazonaws.com/comfyui-inference:latest'\n",
    "\n",
    "model_data = f's3://{bucket}/stablediffusion/assets/model.tar.gz'\n",
    "\n",
    "model_name = 'AIGC-ComfyUI' +  strftime(\"%Y-%m-%d-%H-%M-%S\", gmtime())\n",
    "role = get_execution_role()\n",
    "\n",
    "primary_container = {\n",
    "    'Image': container,  \n",
    "    'ModelDataUrl': model_data,\n",
    "    'Environment':{\n",
    "        's3_bucket': bucket,\n",
    "        'MODEL_PATH': \"s3://sagemaker-us-west-2-687912291502/models/svd/\"\n",
    "    }\n",
    "}\n",
    "\n",
    "create_model_response = client.create_model(\n",
    "    ModelName = model_name,\n",
    "    ExecutionRoleArn = role,\n",
    "    PrimaryContainer = primary_container,\n",
    "\n",
    "\n",
    ")"
   ]
  },
  {
   "cell_type": "code",
   "execution_count": 49,
   "id": "e8f2b4a2",
   "metadata": {
    "tags": []
   },
   "outputs": [],
   "source": [
    "_time_tag = strftime(\"%Y-%m-%d-%H-%M-%S\", gmtime())\n",
    "_variant_name =  'AIGC-ComfyUI-'+ _time_tag\n",
    "endpoint_config_name = 'AIGC-ComfyUI-' +  _time_tag\n",
    "\n",
    "response = client.create_endpoint_config(\n",
    "    EndpointConfigName=endpoint_config_name,\n",
    "    ProductionVariants=[\n",
    "        {\n",
    "            'VariantName': _variant_name,\n",
    "            'ModelName': model_name,\n",
    "            'InitialInstanceCount': 1,\n",
    "            #'VolumeSizeInGB': 300,\n",
    "            'InstanceType': 'ml.g5.4xlarge',\n",
    "            'InitialVariantWeight': 1,\n",
    "            \"ModelDataDownloadTimeoutInSeconds\": 800, # Specify the model download timeout in seconds.\n",
    "            \"ContainerStartupHealthCheckTimeoutInSeconds\": 800, # Specify the health checkup timeout in seconds\n",
    "            \n",
    "        },\n",
    "    ]\n",
    ")"
   ]
  },
  {
   "cell_type": "markdown",
   "id": "dbc23af4",
   "metadata": {
    "tags": []
   },
   "source": [
    "#### 3.3 部署SageMaker endpoint (这里只需要运行一次!!!)"
   ]
  },
  {
   "cell_type": "code",
   "execution_count": 50,
   "id": "f3d7ad93",
   "metadata": {},
   "outputs": [
    {
     "name": "stdout",
     "output_type": "stream",
     "text": [
      "终端节点:AIGC-ComfyUI-e3526a3a-9074-4edf-8248-078486a3d26b 正在创建中，首次启动中会加载模型，请耐心等待, 请在控制台上查看状态\n"
     ]
    }
   ],
   "source": [
    "endpoint_name = f'AIGC-ComfyUI-{str(uuid.uuid4())}'\n",
    "\n",
    "print(f'终端节点:{endpoint_name} 正在创建中，首次启动中会加载模型，请耐心等待, 请在控制台上查看状态')\n",
    "\n",
    "response = client.create_endpoint(\n",
    "    EndpointName=endpoint_name,\n",
    "    EndpointConfigName=endpoint_config_name,\n",
    ")\n",
    "\n"
   ]
  },
  {
   "cell_type": "markdown",
   "id": "2ddc1b48",
   "metadata": {
    "tags": []
   },
   "source": [
    "* 检查endpoint 状态"
   ]
  },
  {
   "cell_type": "code",
   "execution_count": 51,
   "id": "d217375b",
   "metadata": {},
   "outputs": [
    {
     "name": "stdout",
     "output_type": "stream",
     "text": [
      "AIGC-ComfyUI-e3526a3a-9074-4edf-8248-078486a3d26b is ready, status: InService\n"
     ]
    }
   ],
   "source": [
    "import time\n",
    "def check_sendpoint_status(endpoint_name,timeout=600):\n",
    "    client = boto3.client('sagemaker')\n",
    "    current_time=0\n",
    "    while current_time<timeout:\n",
    "        client = boto3.client('sagemaker')\n",
    "        try:\n",
    "            response = client.describe_endpoint(\n",
    "            EndpointName=endpoint_name\n",
    "            )\n",
    "            if response['EndpointStatus'] !='InService':\n",
    "                raise Exception (f'{endpoint_name} not ready , please wait....')\n",
    "        except Exception as ex:\n",
    "            print(f'{endpoint_name} not ready , please wait....')\n",
    "            time.sleep(10)\n",
    "        else:\n",
    "            status = response['EndpointStatus']\n",
    "            print(f'{endpoint_name} is ready, status: {status}')\n",
    "            break\n",
    "\n",
    "check_sendpoint_status(endpoint_name)"
   ]
  },
  {
   "cell_type": "markdown",
   "id": "6e3557ab-3155-4e1e-ae6a-039ab72fcf00",
   "metadata": {
    "tags": []
   },
   "source": [
    "### alternative deploy api(ssh debug inference )"
   ]
  },
  {
   "cell_type": "code",
   "execution_count": null,
   "id": "41003ca7-fd5e-4218-b919-29e8e2b9b6e5",
   "metadata": {
    "tags": []
   },
   "outputs": [],
   "source": [
    "model = Model(image_uri=container, model_data=model_data, role=role,dependencies=[SSHModelWrapper.dependency_dir()] )"
   ]
  },
  {
   "cell_type": "code",
   "execution_count": null,
   "id": "8e0e61cd",
   "metadata": {
    "tags": []
   },
   "outputs": [],
   "source": [
    "instance_type = \"ml.g5.2xlarge\"\n",
    "from sagemaker_ssh_helper.wrapper import SSHModelWrapper\n",
    "\n",
    "endpoint_name = sagemaker.utils.name_from_base(\"comfyui-byoc\")\n",
    "\n",
    "model.deploy(initial_instance_count=1,\n",
    "             instance_type=instance_type,\n",
    "             endpoint_name=endpoint_name,\n",
    "             container_startup_health_check_timeout=800             \n",
    "            )\n",
    "ssh_wrapper = SSHModelWrapper.create(model, connection_wait_time_seconds=0)\n",
    "# our requests and responses will be in json format so we specify the serializer and the deserializer\n",
    "predictor = sagemaker.Predictor(\n",
    "    endpoint_name=endpoint_name,\n",
    "    sagemaker_session=sage_session,\n",
    "    serializer=serializers.JSONSerializer(),\n",
    ")\n",
    "print(f\"To connect over SSH run: sm-local-ssh-training connect {ssh_wrapper.training_job_name()}\")\n",
    "instance_ids = ssh_wrapper.get_instance_ids(timeout_in_sec=900)  # <--NEW-- \n",
    "print(f\"To connect over SSM run: aws ssm start-session --target {instance_ids[0]}\")"
   ]
  },
  {
   "cell_type": "markdown",
   "id": "ab7868e7",
   "metadata": {
    "tags": []
   },
   "source": [
    "## 4.测试"
   ]
  },
  {
   "cell_type": "markdown",
   "id": "c73894c5-1667-4daf-9cc3-51d7fe983368",
   "metadata": {
    "tags": []
   },
   "source": [
    "#### 4.1 创建测试辅助方法 "
   ]
  },
  {
   "cell_type": "code",
   "execution_count": 4,
   "id": "938f36fc-ef9b-4eed-afa5-4f2b81967b6b",
   "metadata": {},
   "outputs": [],
   "source": [
    "import time\n",
    "import datetime\n",
    "import uuid\n",
    "import io\n",
    "import traceback\n",
    "from PIL import Image\n",
    "import boto3\n",
    "import json\n",
    "\n",
    "\n",
    "s3_client = boto3.client('s3')\n",
    "\n",
    "def get_bucket_and_key(s3uri):\n",
    "    pos = s3uri.find('/', 5)\n",
    "    bucket = s3uri[5 : pos]\n",
    "    key = s3uri[pos + 1 : ]\n",
    "    return bucket, key\n",
    "\n",
    "\n",
    "def predict(endpoint_name,payload):\n",
    "    runtime_client = boto3.client('runtime.sagemaker')\n",
    "    response = runtime_client.invoke_endpoint(\n",
    "        EndpointName=endpoint_name,\n",
    "        ContentType='application/json',\n",
    "        Body=json.dumps(payload)\n",
    "    )\n",
    "    print(response)\n",
    "    result = json.loads(response['Body'].read().decode())\n",
    "    print(result)\n",
    "    return result\n",
    "\n",
    "\n",
    "def show_image(result):\n",
    "    try:\n",
    "        predictions = json.loads(result)\n",
    "        print(predictions['result'])\n",
    "        for image in predictions['result']:\n",
    "            bucket, key = get_bucket_and_key(image)\n",
    "            obj = s3_client.Object(bucket, key)\n",
    "            bytes = obj.get()['Body'].read()\n",
    "            image = Image.open(io.BytesIO(bytes))\n",
    "            #resize image to 50% size\n",
    "            half = 0.5\n",
    "            out_image = image.resize( [int(half * s) for s in image.size] )\n",
    "            out_image.show()\n",
    "    except Exception as e:\n",
    "        print(\"result is not completed, waiting...\")\n",
    "\n",
    "\n",
    "def show_gifs(result):\n",
    "    import base64\n",
    "    from IPython import display\n",
    "    try:\n",
    "        predictions = result['prediction']\n",
    "        s3_file_path = predictions[0]\n",
    "        print(\"s3 generated gifs path is {}\".format(s3_file_path))\n",
    "        bucket_name, key = get_bucket_and_key(s3_file_path)\n",
    "        timestamp = datetime.datetime.now().strftime('%Y%m%d%H%M%S')\n",
    "        local_file_path=\"./ComfyUI_\"+timestamp+\".gif\"\n",
    "        s3_client.download_file(bucket_name, key, local_file_path)\n",
    "        with open(local_file_path, 'rb') as fd:\n",
    "            b64 = base64.b64encode(fd.read()).decode('ascii')\n",
    "        return display.HTML(f'<img src=\"data:image/gif;base64,{b64}\" />')\n",
    "    except Exception as e:\n",
    "        print(e)\n",
    "        print(\"result is not completed, waiting...\")\n",
    "\n",
    "\n",
    "def check_sendpoint_status(endpoint_name,timeout=600):\n",
    "    client = boto3.client('sagemaker')\n",
    "    current_time=0\n",
    "    while current_time<timeout:\n",
    "        client = boto3.client('sagemaker')\n",
    "        try:\n",
    "            response = client.describe_endpoint(\n",
    "            EndpointName=endpoint_name\n",
    "            )\n",
    "            if response['EndpointStatus'] !='InService':\n",
    "                raise Exception (f'{endpoint_name} not ready , please wait....')\n",
    "        except Exception as ex:\n",
    "            print(f'{endpoint_name} not ready , please wait....')\n",
    "            time.sleep(10)\n",
    "        else:\n",
    "            status = response['EndpointStatus']\n",
    "            print(f'{endpoint_name} is ready, status: {status}')\n",
    "            break"
   ]
  },
  {
   "cell_type": "markdown",
   "id": "a21e515e",
   "metadata": {
    "tags": []
   },
   "source": [
    "#### 4.2 测试ComfyUI 文生视频\n",
    "\n",
    "prompt从json文件加载"
   ]
  },
  {
   "cell_type": "code",
   "execution_count": 5,
   "id": "f4de0b04-a4bc-4ff3-bb1d-5e64663c991a",
   "metadata": {
    "tags": []
   },
   "outputs": [],
   "source": [
    "endpoint_name=\"AIGC-ComfyUI-e3526a3a-9074-4edf-8248-078486a3d26b\""
   ]
  },
  {
   "cell_type": "code",
   "execution_count": 10,
   "id": "c1a89797",
   "metadata": {},
   "outputs": [
    {
     "name": "stdout",
     "output_type": "stream",
     "text": [
      "{'ResponseMetadata': {'RequestId': 'c0010815-f3d7-4518-8338-f678d5eca24f', 'HTTPStatusCode': 200, 'HTTPHeaders': {'x-amzn-requestid': 'c0010815-f3d7-4518-8338-f678d5eca24f', 'x-amzn-invoked-production-variant': 'AIGC-ComfyUI-2024-01-23-07-50-37', 'date': 'Wed, 24 Jan 2024 12:56:29 GMT', 'content-type': 'application/json; charset=utf-8', 'content-length': '53', 'connection': 'keep-alive'}, 'RetryAttempts': 0}, 'ContentType': 'application/json; charset=utf-8', 'InvokedProductionVariant': 'AIGC-ComfyUI-2024-01-23-07-50-37', 'Body': <botocore.response.StreamingBody object at 0x7f79a4b85330>}\n",
      "{'prompt_id': '8257e432-10a5-4822-a46e-26d428152b2c'}\n"
     ]
    }
   ],
   "source": [
    "prompt_json_file=\"./workflow_api.json\"\n",
    "prompt_text=\"\"\n",
    "with open(prompt_json_file) as f:\n",
    "  prompt_text = json.load(f)\n",
    "\n",
    "client_id = str(uuid.uuid4())\n",
    "payload={\n",
    "     \"client_id\":client_id,\n",
    "     \"prompt\": prompt_text,\n",
    "     \"inference_type\":\"text2vid\",\n",
    "     \"method\":\"queue_prompt\"\n",
    "}\n",
    "prompt_id = predict(endpoint_name,payload)[\"prompt_id\"]\n"
   ]
  },
  {
   "cell_type": "code",
   "execution_count": 11,
   "id": "ff3dd800-c247-45d0-964a-04d5400a0897",
   "metadata": {
    "tags": []
   },
   "outputs": [
    {
     "name": "stdout",
     "output_type": "stream",
     "text": [
      "{'ResponseMetadata': {'RequestId': '20930e62-bc51-4bc2-aaa0-0596cce3b18d', 'HTTPStatusCode': 200, 'HTTPHeaders': {'x-amzn-requestid': '20930e62-bc51-4bc2-aaa0-0596cce3b18d', 'x-amzn-invoked-production-variant': 'AIGC-ComfyUI-2024-01-23-07-50-37', 'date': 'Wed, 24 Jan 2024 12:56:31 GMT', 'content-type': 'application/json; charset=utf-8', 'content-length': '23', 'connection': 'keep-alive'}, 'RetryAttempts': 0}, 'ContentType': 'application/json; charset=utf-8', 'InvokedProductionVariant': 'AIGC-ComfyUI-2024-01-23-07-50-37', 'Body': <botocore.response.StreamingBody object at 0x7f79a7206260>}\n",
      "{'status': 'executing'}\n",
      "{'ResponseMetadata': {'RequestId': '2c55efed-e3f0-4b34-a4e2-b01492570502', 'HTTPStatusCode': 200, 'HTTPHeaders': {'x-amzn-requestid': '2c55efed-e3f0-4b34-a4e2-b01492570502', 'x-amzn-invoked-production-variant': 'AIGC-ComfyUI-2024-01-23-07-50-37', 'date': 'Wed, 24 Jan 2024 12:56:41 GMT', 'content-type': 'application/json; charset=utf-8', 'content-length': '23', 'connection': 'keep-alive'}, 'RetryAttempts': 0}, 'ContentType': 'application/json; charset=utf-8', 'InvokedProductionVariant': 'AIGC-ComfyUI-2024-01-23-07-50-37', 'Body': <botocore.response.StreamingBody object at 0x7f79a72041f0>}\n",
      "{'status': 'executing'}\n",
      "{'ResponseMetadata': {'RequestId': 'e183e093-a78b-432d-8d72-7d9b5136d200', 'HTTPStatusCode': 200, 'HTTPHeaders': {'x-amzn-requestid': 'e183e093-a78b-432d-8d72-7d9b5136d200', 'x-amzn-invoked-production-variant': 'AIGC-ComfyUI-2024-01-23-07-50-37', 'date': 'Wed, 24 Jan 2024 12:56:51 GMT', 'content-type': 'application/json; charset=utf-8', 'content-length': '23', 'connection': 'keep-alive'}, 'RetryAttempts': 0}, 'ContentType': 'application/json; charset=utf-8', 'InvokedProductionVariant': 'AIGC-ComfyUI-2024-01-23-07-50-37', 'Body': <botocore.response.StreamingBody object at 0x7f79a71b6c20>}\n",
      "{'status': 'executing'}\n",
      "{'ResponseMetadata': {'RequestId': '99e8f2cc-faf6-4f52-a926-182a8a261dac', 'HTTPStatusCode': 200, 'HTTPHeaders': {'x-amzn-requestid': '99e8f2cc-faf6-4f52-a926-182a8a261dac', 'x-amzn-invoked-production-variant': 'AIGC-ComfyUI-2024-01-23-07-50-37', 'date': 'Wed, 24 Jan 2024 12:57:01 GMT', 'content-type': 'application/json; charset=utf-8', 'content-length': '23', 'connection': 'keep-alive'}, 'RetryAttempts': 0}, 'ContentType': 'application/json; charset=utf-8', 'InvokedProductionVariant': 'AIGC-ComfyUI-2024-01-23-07-50-37', 'Body': <botocore.response.StreamingBody object at 0x7f79a4c18910>}\n",
      "{'status': 'executing'}\n",
      "{'ResponseMetadata': {'RequestId': 'd5bcc1ec-4928-4a8b-98a0-e2a77bcc0307', 'HTTPStatusCode': 200, 'HTTPHeaders': {'x-amzn-requestid': 'd5bcc1ec-4928-4a8b-98a0-e2a77bcc0307', 'x-amzn-invoked-production-variant': 'AIGC-ComfyUI-2024-01-23-07-50-37', 'date': 'Wed, 24 Jan 2024 12:57:11 GMT', 'content-type': 'application/json; charset=utf-8', 'content-length': '23', 'connection': 'keep-alive'}, 'RetryAttempts': 0}, 'ContentType': 'application/json; charset=utf-8', 'InvokedProductionVariant': 'AIGC-ComfyUI-2024-01-23-07-50-37', 'Body': <botocore.response.StreamingBody object at 0x7f79a4c18880>}\n",
      "{'status': 'executing'}\n",
      "{'ResponseMetadata': {'RequestId': 'e8ba0261-355c-42ea-b8b8-e849cb785889', 'HTTPStatusCode': 200, 'HTTPHeaders': {'x-amzn-requestid': 'e8ba0261-355c-42ea-b8b8-e849cb785889', 'x-amzn-invoked-production-variant': 'AIGC-ComfyUI-2024-01-23-07-50-37', 'date': 'Wed, 24 Jan 2024 12:57:21 GMT', 'content-type': 'application/json; charset=utf-8', 'content-length': '23', 'connection': 'keep-alive'}, 'RetryAttempts': 0}, 'ContentType': 'application/json; charset=utf-8', 'InvokedProductionVariant': 'AIGC-ComfyUI-2024-01-23-07-50-37', 'Body': <botocore.response.StreamingBody object at 0x7f79a4c181c0>}\n",
      "{'status': 'executing'}\n",
      "{'ResponseMetadata': {'RequestId': 'db782b16-e703-481c-a18b-d97ee354a1db', 'HTTPStatusCode': 200, 'HTTPHeaders': {'x-amzn-requestid': 'db782b16-e703-481c-a18b-d97ee354a1db', 'x-amzn-invoked-production-variant': 'AIGC-ComfyUI-2024-01-23-07-50-37', 'date': 'Wed, 24 Jan 2024 12:57:31 GMT', 'content-type': 'application/json; charset=utf-8', 'content-length': '23', 'connection': 'keep-alive'}, 'RetryAttempts': 0}, 'ContentType': 'application/json; charset=utf-8', 'InvokedProductionVariant': 'AIGC-ComfyUI-2024-01-23-07-50-37', 'Body': <botocore.response.StreamingBody object at 0x7f79a4c1b5e0>}\n",
      "{'status': 'executing'}\n",
      "{'ResponseMetadata': {'RequestId': 'cfc15ae6-820c-43dd-8aee-50f4b987f23d', 'HTTPStatusCode': 200, 'HTTPHeaders': {'x-amzn-requestid': 'cfc15ae6-820c-43dd-8aee-50f4b987f23d', 'x-amzn-invoked-production-variant': 'AIGC-ComfyUI-2024-01-23-07-50-37', 'date': 'Wed, 24 Jan 2024 12:57:41 GMT', 'content-type': 'application/json; charset=utf-8', 'content-length': '23', 'connection': 'keep-alive'}, 'RetryAttempts': 0}, 'ContentType': 'application/json; charset=utf-8', 'InvokedProductionVariant': 'AIGC-ComfyUI-2024-01-23-07-50-37', 'Body': <botocore.response.StreamingBody object at 0x7f79a4c1a710>}\n",
      "{'status': 'executing'}\n",
      "{'ResponseMetadata': {'RequestId': '181ecdbf-0537-4447-ac41-ed004cc90a62', 'HTTPStatusCode': 200, 'HTTPHeaders': {'x-amzn-requestid': '181ecdbf-0537-4447-ac41-ed004cc90a62', 'x-amzn-invoked-production-variant': 'AIGC-ComfyUI-2024-01-23-07-50-37', 'date': 'Wed, 24 Jan 2024 12:57:51 GMT', 'content-type': 'application/json; charset=utf-8', 'content-length': '23', 'connection': 'keep-alive'}, 'RetryAttempts': 0}, 'ContentType': 'application/json; charset=utf-8', 'InvokedProductionVariant': 'AIGC-ComfyUI-2024-01-23-07-50-37', 'Body': <botocore.response.StreamingBody object at 0x7f79a4c19ff0>}\n",
      "{'status': 'executing'}\n",
      "{'ResponseMetadata': {'RequestId': 'e10c6996-150d-48a6-8c7c-8d0f778304a5', 'HTTPStatusCode': 200, 'HTTPHeaders': {'x-amzn-requestid': 'e10c6996-150d-48a6-8c7c-8d0f778304a5', 'x-amzn-invoked-production-variant': 'AIGC-ComfyUI-2024-01-23-07-50-37', 'date': 'Wed, 24 Jan 2024 12:58:01 GMT', 'content-type': 'application/json; charset=utf-8', 'content-length': '23', 'connection': 'keep-alive'}, 'RetryAttempts': 0}, 'ContentType': 'application/json; charset=utf-8', 'InvokedProductionVariant': 'AIGC-ComfyUI-2024-01-23-07-50-37', 'Body': <botocore.response.StreamingBody object at 0x7f79a4c19b40>}\n",
      "{'status': 'executing'}\n",
      "{'ResponseMetadata': {'RequestId': 'ef7a78c5-7992-42ce-9a39-11ca2eba0ed0', 'HTTPStatusCode': 200, 'HTTPHeaders': {'x-amzn-requestid': 'ef7a78c5-7992-42ce-9a39-11ca2eba0ed0', 'x-amzn-invoked-production-variant': 'AIGC-ComfyUI-2024-01-23-07-50-37', 'date': 'Wed, 24 Jan 2024 12:58:11 GMT', 'content-type': 'application/json; charset=utf-8', 'content-length': '23', 'connection': 'keep-alive'}, 'RetryAttempts': 0}, 'ContentType': 'application/json; charset=utf-8', 'InvokedProductionVariant': 'AIGC-ComfyUI-2024-01-23-07-50-37', 'Body': <botocore.response.StreamingBody object at 0x7f79a4c19600>}\n",
      "{'status': 'executing'}\n",
      "{'ResponseMetadata': {'RequestId': '194cf030-2afb-489d-a7e2-3848a83fb846', 'HTTPStatusCode': 200, 'HTTPHeaders': {'x-amzn-requestid': '194cf030-2afb-489d-a7e2-3848a83fb846', 'x-amzn-invoked-production-variant': 'AIGC-ComfyUI-2024-01-23-07-50-37', 'date': 'Wed, 24 Jan 2024 12:58:21 GMT', 'content-type': 'application/json; charset=utf-8', 'content-length': '23', 'connection': 'keep-alive'}, 'RetryAttempts': 0}, 'ContentType': 'application/json; charset=utf-8', 'InvokedProductionVariant': 'AIGC-ComfyUI-2024-01-23-07-50-37', 'Body': <botocore.response.StreamingBody object at 0x7f79a72066e0>}\n",
      "{'status': 'executing'}\n",
      "{'ResponseMetadata': {'RequestId': 'd08fddba-4f25-4bd4-a4be-c1c13140719e', 'HTTPStatusCode': 200, 'HTTPHeaders': {'x-amzn-requestid': 'd08fddba-4f25-4bd4-a4be-c1c13140719e', 'x-amzn-invoked-production-variant': 'AIGC-ComfyUI-2024-01-23-07-50-37', 'date': 'Wed, 24 Jan 2024 12:58:31 GMT', 'content-type': 'application/json; charset=utf-8', 'content-length': '23', 'connection': 'keep-alive'}, 'RetryAttempts': 0}, 'ContentType': 'application/json; charset=utf-8', 'InvokedProductionVariant': 'AIGC-ComfyUI-2024-01-23-07-50-37', 'Body': <botocore.response.StreamingBody object at 0x7f79f71ff100>}\n",
      "{'status': 'executing'}\n",
      "{'ResponseMetadata': {'RequestId': 'd0649af1-c95d-4fb6-ac59-70de3146aa00', 'HTTPStatusCode': 200, 'HTTPHeaders': {'x-amzn-requestid': 'd0649af1-c95d-4fb6-ac59-70de3146aa00', 'x-amzn-invoked-production-variant': 'AIGC-ComfyUI-2024-01-23-07-50-37', 'date': 'Wed, 24 Jan 2024 12:58:41 GMT', 'content-type': 'application/json; charset=utf-8', 'content-length': '23', 'connection': 'keep-alive'}, 'RetryAttempts': 0}, 'ContentType': 'application/json; charset=utf-8', 'InvokedProductionVariant': 'AIGC-ComfyUI-2024-01-23-07-50-37', 'Body': <botocore.response.StreamingBody object at 0x7f79a4b85630>}\n",
      "{'status': 'executing'}\n",
      "{'ResponseMetadata': {'RequestId': '11cd5a1c-5e38-4ff1-a9ef-1adef51ad38e', 'HTTPStatusCode': 200, 'HTTPHeaders': {'x-amzn-requestid': '11cd5a1c-5e38-4ff1-a9ef-1adef51ad38e', 'x-amzn-invoked-production-variant': 'AIGC-ComfyUI-2024-01-23-07-50-37', 'date': 'Wed, 24 Jan 2024 12:58:51 GMT', 'content-type': 'application/json; charset=utf-8', 'content-length': '23', 'connection': 'keep-alive'}, 'RetryAttempts': 0}, 'ContentType': 'application/json; charset=utf-8', 'InvokedProductionVariant': 'AIGC-ComfyUI-2024-01-23-07-50-37', 'Body': <botocore.response.StreamingBody object at 0x7f79a4b861d0>}\n",
      "{'status': 'executing'}\n",
      "{'ResponseMetadata': {'RequestId': 'de0e88f4-c43c-4702-b92d-ae066ce4207f', 'HTTPStatusCode': 200, 'HTTPHeaders': {'x-amzn-requestid': 'de0e88f4-c43c-4702-b92d-ae066ce4207f', 'x-amzn-invoked-production-variant': 'AIGC-ComfyUI-2024-01-23-07-50-37', 'date': 'Wed, 24 Jan 2024 12:59:01 GMT', 'content-type': 'application/json; charset=utf-8', 'content-length': '23', 'connection': 'keep-alive'}, 'RetryAttempts': 0}, 'ContentType': 'application/json; charset=utf-8', 'InvokedProductionVariant': 'AIGC-ComfyUI-2024-01-23-07-50-37', 'Body': <botocore.response.StreamingBody object at 0x7f79a4c1bdc0>}\n",
      "{'status': 'executing'}\n",
      "{'ResponseMetadata': {'RequestId': 'ed7e8d02-ebd6-4410-98ef-633de24ec5d3', 'HTTPStatusCode': 200, 'HTTPHeaders': {'x-amzn-requestid': 'ed7e8d02-ebd6-4410-98ef-633de24ec5d3', 'x-amzn-invoked-production-variant': 'AIGC-ComfyUI-2024-01-23-07-50-37', 'date': 'Wed, 24 Jan 2024 12:59:11 GMT', 'content-type': 'application/json; charset=utf-8', 'content-length': '23', 'connection': 'keep-alive'}, 'RetryAttempts': 0}, 'ContentType': 'application/json; charset=utf-8', 'InvokedProductionVariant': 'AIGC-ComfyUI-2024-01-23-07-50-37', 'Body': <botocore.response.StreamingBody object at 0x7f79a4c1bbb0>}\n",
      "{'status': 'executing'}\n",
      "{'ResponseMetadata': {'RequestId': 'cc08bbed-f55a-45f4-82ed-6da96b6c860e', 'HTTPStatusCode': 200, 'HTTPHeaders': {'x-amzn-requestid': 'cc08bbed-f55a-45f4-82ed-6da96b6c860e', 'x-amzn-invoked-production-variant': 'AIGC-ComfyUI-2024-01-23-07-50-37', 'date': 'Wed, 24 Jan 2024 12:59:21 GMT', 'content-type': 'application/json; charset=utf-8', 'content-length': '23', 'connection': 'keep-alive'}, 'RetryAttempts': 0}, 'ContentType': 'application/json; charset=utf-8', 'InvokedProductionVariant': 'AIGC-ComfyUI-2024-01-23-07-50-37', 'Body': <botocore.response.StreamingBody object at 0x7f79a4c1a800>}\n",
      "{'status': 'executing'}\n",
      "{'ResponseMetadata': {'RequestId': 'de04d03e-dfd5-4589-8a5e-76ccdff661d0', 'HTTPStatusCode': 200, 'HTTPHeaders': {'x-amzn-requestid': 'de04d03e-dfd5-4589-8a5e-76ccdff661d0', 'x-amzn-invoked-production-variant': 'AIGC-ComfyUI-2024-01-23-07-50-37', 'date': 'Wed, 24 Jan 2024 12:59:32 GMT', 'content-type': 'application/json; charset=utf-8', 'content-length': '23', 'connection': 'keep-alive'}, 'RetryAttempts': 0}, 'ContentType': 'application/json; charset=utf-8', 'InvokedProductionVariant': 'AIGC-ComfyUI-2024-01-23-07-50-37', 'Body': <botocore.response.StreamingBody object at 0x7f79a4c1b190>}\n",
      "{'status': 'executing'}\n",
      "{'ResponseMetadata': {'RequestId': 'b2ad02dc-fef2-4440-bab5-2b27d017bb97', 'HTTPStatusCode': 200, 'HTTPHeaders': {'x-amzn-requestid': 'b2ad02dc-fef2-4440-bab5-2b27d017bb97', 'x-amzn-invoked-production-variant': 'AIGC-ComfyUI-2024-01-23-07-50-37', 'date': 'Wed, 24 Jan 2024 12:59:42 GMT', 'content-type': 'application/json; charset=utf-8', 'content-length': '23', 'connection': 'keep-alive'}, 'RetryAttempts': 0}, 'ContentType': 'application/json; charset=utf-8', 'InvokedProductionVariant': 'AIGC-ComfyUI-2024-01-23-07-50-37', 'Body': <botocore.response.StreamingBody object at 0x7f79a4c19090>}\n",
      "{'status': 'executing'}\n",
      "{'ResponseMetadata': {'RequestId': '026ca6b8-5701-4bb4-ba06-36c7c8231d91', 'HTTPStatusCode': 200, 'HTTPHeaders': {'x-amzn-requestid': '026ca6b8-5701-4bb4-ba06-36c7c8231d91', 'x-amzn-invoked-production-variant': 'AIGC-ComfyUI-2024-01-23-07-50-37', 'date': 'Wed, 24 Jan 2024 12:59:52 GMT', 'content-type': 'application/json; charset=utf-8', 'content-length': '23', 'connection': 'keep-alive'}, 'RetryAttempts': 0}, 'ContentType': 'application/json; charset=utf-8', 'InvokedProductionVariant': 'AIGC-ComfyUI-2024-01-23-07-50-37', 'Body': <botocore.response.StreamingBody object at 0x7f79a4c1ac80>}\n",
      "{'status': 'executing'}\n",
      "{'ResponseMetadata': {'RequestId': 'b410809c-b966-4666-8f28-058f2ff7080f', 'HTTPStatusCode': 200, 'HTTPHeaders': {'x-amzn-requestid': 'b410809c-b966-4666-8f28-058f2ff7080f', 'x-amzn-invoked-production-variant': 'AIGC-ComfyUI-2024-01-23-07-50-37', 'date': 'Wed, 24 Jan 2024 13:00:02 GMT', 'content-type': 'application/json; charset=utf-8', 'content-length': '23', 'connection': 'keep-alive'}, 'RetryAttempts': 0}, 'ContentType': 'application/json; charset=utf-8', 'InvokedProductionVariant': 'AIGC-ComfyUI-2024-01-23-07-50-37', 'Body': <botocore.response.StreamingBody object at 0x7f79a4c19810>}\n",
      "{'status': 'executing'}\n",
      "{'ResponseMetadata': {'RequestId': 'bfecd819-87ac-4ad7-b557-8d0adb9ed1a7', 'HTTPStatusCode': 200, 'HTTPHeaders': {'x-amzn-requestid': 'bfecd819-87ac-4ad7-b557-8d0adb9ed1a7', 'x-amzn-invoked-production-variant': 'AIGC-ComfyUI-2024-01-23-07-50-37', 'date': 'Wed, 24 Jan 2024 13:00:12 GMT', 'content-type': 'application/json; charset=utf-8', 'content-length': '23', 'connection': 'keep-alive'}, 'RetryAttempts': 0}, 'ContentType': 'application/json; charset=utf-8', 'InvokedProductionVariant': 'AIGC-ComfyUI-2024-01-23-07-50-37', 'Body': <botocore.response.StreamingBody object at 0x7f79a4034c70>}\n",
      "{'status': 'executing'}\n",
      "{'ResponseMetadata': {'RequestId': 'acabfa99-3993-434c-a448-be5bb7e5ff6d', 'HTTPStatusCode': 200, 'HTTPHeaders': {'x-amzn-requestid': 'acabfa99-3993-434c-a448-be5bb7e5ff6d', 'x-amzn-invoked-production-variant': 'AIGC-ComfyUI-2024-01-23-07-50-37', 'date': 'Wed, 24 Jan 2024 13:00:22 GMT', 'content-type': 'application/json; charset=utf-8', 'content-length': '23', 'connection': 'keep-alive'}, 'RetryAttempts': 0}, 'ContentType': 'application/json; charset=utf-8', 'InvokedProductionVariant': 'AIGC-ComfyUI-2024-01-23-07-50-37', 'Body': <botocore.response.StreamingBody object at 0x7f79a7205810>}\n",
      "{'status': 'executing'}\n",
      "{'ResponseMetadata': {'RequestId': '931c92d2-f8ba-463d-9978-f71a854a9989', 'HTTPStatusCode': 200, 'HTTPHeaders': {'x-amzn-requestid': '931c92d2-f8ba-463d-9978-f71a854a9989', 'x-amzn-invoked-production-variant': 'AIGC-ComfyUI-2024-01-23-07-50-37', 'date': 'Wed, 24 Jan 2024 13:00:32 GMT', 'content-type': 'application/json; charset=utf-8', 'content-length': '21', 'connection': 'keep-alive'}, 'RetryAttempts': 0}, 'ContentType': 'application/json; charset=utf-8', 'InvokedProductionVariant': 'AIGC-ComfyUI-2024-01-23-07-50-37', 'Body': <botocore.response.StreamingBody object at 0x7f79a7204fd0>}\n",
      "{'status': 'success'}\n"
     ]
    }
   ],
   "source": [
    "payload={\n",
    "     \"client_id\":client_id,\n",
    "     \"prompt_id\":prompt_id,\n",
    "     \"inference_type\":\"text2vid\",\n",
    "     \"method\":\"get_status\"\n",
    "}\n",
    "while True:\n",
    "    status = predict(endpoint_name,payload)\n",
    "    time.sleep(10)\n",
    "    if status[\"status\"] == \"success\":\n",
    "        break"
   ]
  },
  {
   "cell_type": "code",
   "execution_count": 12,
   "id": "dc37620b-d941-4a16-b0ab-2b0f62b3116e",
   "metadata": {
    "tags": []
   },
   "outputs": [
    {
     "name": "stdout",
     "output_type": "stream",
     "text": [
      "{'ResponseMetadata': {'RequestId': 'b9aebf40-c101-4b35-86ec-9aa1534e69c4', 'HTTPStatusCode': 200, 'HTTPHeaders': {'x-amzn-requestid': 'b9aebf40-c101-4b35-86ec-9aa1534e69c4', 'x-amzn-invoked-production-variant': 'AIGC-ComfyUI-2024-01-23-07-50-37', 'date': 'Wed, 24 Jan 2024 13:00:43 GMT', 'content-type': 'application/json; charset=utf-8', 'content-length': '95', 'connection': 'keep-alive'}, 'RetryAttempts': 0}, 'ContentType': 'application/json; charset=utf-8', 'InvokedProductionVariant': 'AIGC-ComfyUI-2024-01-23-07-50-37', 'Body': <botocore.response.StreamingBody object at 0x7f79a7206080>}\n",
      "{'prediction': ['s3://sagemaker-us-west-2-687912291502/comfyui_output/images/Comfyui_110.gif']}\n"
     ]
    }
   ],
   "source": [
    "payload={\n",
    "     \"client_id\":client_id,\n",
    "     \"prompt_id\":prompt_id,\n",
    "     \"inference_type\":\"text2vid\",\n",
    "     \"method\":\"get_images\"\n",
    "}\n",
    "result = predict(endpoint_name,payload)"
   ]
  },
  {
   "cell_type": "code",
   "execution_count": null,
   "id": "3dcf15c5-cc4b-4c8d-b0bb-28450647c2ad",
   "metadata": {
    "tags": []
   },
   "outputs": [
    {
     "name": "stdout",
     "output_type": "stream",
     "text": [
      "s3 generated gifs path is s3://sagemaker-us-west-2-687912291502/comfyui_output/images/Comfyui_110.gif\n"
     ]
    }
   ],
   "source": [
    "show_gifs(result)"
   ]
  },
  {
   "cell_type": "markdown",
   "id": "c7ac47b8",
   "metadata": {
    "tags": []
   },
   "source": [
    "### 5 清除资源"
   ]
  },
  {
   "cell_type": "code",
   "execution_count": null,
   "id": "e29d998d",
   "metadata": {},
   "outputs": [],
   "source": [
    "response = client.delete_endpoint(\n",
    "    EndpointName=endpoint_name\n",
    "    \n",
    ")\n",
    "\n",
    "response = client.delete_endpoint_config(\n",
    "    EndpointConfigName=endpoint_config_name\n",
    ")\n",
    "\n",
    "\n",
    "print(f'终端节点:{endpoint_name} 已经被清除，请在控制台上查看状态')\n"
   ]
  },
  {
   "cell_type": "code",
   "execution_count": null,
   "id": "220bad7e",
   "metadata": {},
   "outputs": [],
   "source": []
  }
 ],
 "metadata": {
  "kernelspec": {
   "display_name": "conda_pytorch_p310",
   "language": "python",
   "name": "conda_pytorch_p310"
  },
  "language_info": {
   "codemirror_mode": {
    "name": "ipython",
    "version": 3
   },
   "file_extension": ".py",
   "mimetype": "text/x-python",
   "name": "python",
   "nbconvert_exporter": "python",
   "pygments_lexer": "ipython3",
   "version": "3.10.12"
  }
 },
 "nbformat": 4,
 "nbformat_minor": 5
}
