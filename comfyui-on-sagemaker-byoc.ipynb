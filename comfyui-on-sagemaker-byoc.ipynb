{
 "cells": [
  {
   "cell_type": "markdown",
   "id": "54c880c6",
   "metadata": {},
   "source": [
    "### 1. 升级boto3, sagemaker python sdk"
   ]
  },
  {
   "cell_type": "code",
   "execution_count": null,
   "id": "f17e7cdf",
   "metadata": {},
   "outputs": [],
   "source": [
    "!pip install --upgrade boto3 sagemaker"
   ]
  },
  {
   "cell_type": "code",
   "execution_count": null,
   "id": "13486437",
   "metadata": {
    "tags": []
   },
   "outputs": [],
   "source": [
    "#导入对应的库\n",
    "\n",
    "import re\n",
    "import os\n",
    "import json\n",
    "import uuid\n",
    "\n",
    "import numpy as np\n",
    "import pandas as pd\n",
    "from time import gmtime, strftime\n",
    "\n",
    "\n",
    "import boto3\n",
    "import sagemaker\n",
    "\n",
    "from sagemaker import get_execution_role,session\n",
    "\n",
    "role = get_execution_role()\n",
    "sage_session = session.Session()\n",
    "bucket = sage_session.default_bucket()\n",
    "aws_region = boto3.Session().region_name\n",
    "\n",
    "print(f'sagemaker sdk version: {sagemaker.__version__}\\nrole:  {role}  \\nbucket:  {bucket}')"
   ]
  },
  {
   "cell_type": "markdown",
   "id": "40088bc5",
   "metadata": {},
   "source": [
    "### 2. 编译docker image (comfyui-inference)"
   ]
  },
  {
   "cell_type": "code",
   "execution_count": null,
   "id": "6e12c79e-b795-4b99-bab8-400f9be2625b",
   "metadata": {
    "tags": []
   },
   "outputs": [],
   "source": [
    "## You should change below region code to the region you used, here sample is use us-west-2\n",
    "!aws ecr get-login-password --region us-west-2 | docker login --username AWS --password-stdin 763104351884.dkr.ecr.us-west-2.amazonaws.com"
   ]
  },
  {
   "cell_type": "code",
   "execution_count": null,
   "id": "47a1eac8",
   "metadata": {
    "tags": []
   },
   "outputs": [],
   "source": [
    "!./build_and_push.sh"
   ]
  },
  {
   "cell_type": "markdown",
   "id": "9083af1b",
   "metadata": {},
   "source": [
    "### 3. 部署Comfyui推理服务"
   ]
  },
  {
   "cell_type": "markdown",
   "id": "da982e13",
   "metadata": {},
   "source": [
    "#### 3.1 创建dummy model_data 文件(真正的模型使用code/infernece.py进行加载)"
   ]
  },
  {
   "cell_type": "code",
   "execution_count": null,
   "id": "efbc709d",
   "metadata": {},
   "outputs": [],
   "source": [
    "!touch dummy\n",
    "!tar czvf model.tar.gz dummy\n",
    "assets_dir = 's3://{0}/{1}/assets/'.format(bucket, 'stablediffusion')\n",
    "model_data = 's3://{0}/{1}/assets/model.tar.gz'.format(bucket, 'stablediffusion')\n",
    "!aws s3 cp model.tar.gz $assets_dir\n",
    "!rm -f dummy model.tar.gz"
   ]
  },
  {
   "cell_type": "code",
   "execution_count": null,
   "id": "35a1f1b2-25d8-4041-8fed-3afeb011e1da",
   "metadata": {
    "tags": []
   },
   "outputs": [],
   "source": [
    "!aws s3 ls s3://sagemaker-us-west-2-687912291502/stablediffusion/assets/model.tar.gz"
   ]
  },
  {
   "cell_type": "markdown",
   "id": "f53d36b8",
   "metadata": {},
   "source": [
    "#### 3.2 创建 model 配置"
   ]
  },
  {
   "cell_type": "code",
   "execution_count": null,
   "id": "2d9c3289",
   "metadata": {},
   "outputs": [],
   "source": [
    "\n",
    "boto3_session = boto3.session.Session()\n",
    "current_region=boto3_session.region_name\n",
    "\n",
    "client = boto3.client(\"sts\")\n",
    "account_id=client.get_caller_identity()[\"Account\"]\n",
    "\n",
    "client = boto3.client('sagemaker')\n",
    "\n",
    "#使用步骤2编译好的docker images\n",
    "#默认名字为: comfyui-inference-v2\n",
    "container = f'{account_id}.dkr.ecr.{current_region}.amazonaws.com/comfyui-inference'\n",
    "\n",
    "model_data = f's3://{bucket}/stablediffusion/assets/model.tar.gz'\n",
    "\n",
    "model_name = 'AIGC-ComfyUI' +  strftime(\"%Y-%m-%d-%H-%M-%S\", gmtime())\n",
    "role = get_execution_role()\n",
    "\n",
    "primary_container = {\n",
    "    'Image': container,  \n",
    "    'ModelDataUrl': model_data,\n",
    "    'Environment':{\n",
    "        's3_bucket': bucket\n",
    "    }\n",
    "}\n",
    "\n",
    "create_model_response = client.create_model(\n",
    "    ModelName = model_name,\n",
    "    ExecutionRoleArn = role,\n",
    "    PrimaryContainer = primary_container,\n",
    "\n",
    "\n",
    ")"
   ]
  },
  {
   "cell_type": "code",
   "execution_count": null,
   "id": "e8f2b4a2",
   "metadata": {},
   "outputs": [],
   "source": [
    "_time_tag = strftime(\"%Y-%m-%d-%H-%M-%S\", gmtime())\n",
    "_variant_name =  'AIGC-ComfyUI-'+ _time_tag\n",
    "endpoint_config_name = 'AIGC-ComfyUI-' +  _time_tag\n",
    "\n",
    "response = client.create_endpoint_config(\n",
    "    EndpointConfigName=endpoint_config_name,\n",
    "    ProductionVariants=[\n",
    "        {\n",
    "            'VariantName': _variant_name,\n",
    "            'ModelName': model_name,\n",
    "            'InitialInstanceCount': 1,\n",
    "            #'VolumeSizeInGB': 300,\n",
    "            'InstanceType': 'ml.g5.8xlarge',\n",
    "            'InitialVariantWeight': 1,\n",
    "            \"ModelDataDownloadTimeoutInSeconds\": 1800, # Specify the model download timeout in seconds.\n",
    "            \"ContainerStartupHealthCheckTimeoutInSeconds\": 1800, # Specify the health checkup timeout in seconds\n",
    "            \n",
    "        },\n",
    "    ]\n",
    ")"
   ]
  },
  {
   "cell_type": "markdown",
   "id": "dbc23af4",
   "metadata": {
    "tags": []
   },
   "source": [
    "#### 3.3 部署SageMaker endpoint (这里只需要运行一次!!!)"
   ]
  },
  {
   "cell_type": "code",
   "execution_count": null,
   "id": "f3d7ad93",
   "metadata": {},
   "outputs": [],
   "source": [
    "endpoint_name = f'AIGC-ComfyUI-{str(uuid.uuid4())}'\n",
    "\n",
    "print(f'终端节点:{endpoint_name} 正在创建中，首次启动中会加载模型，请耐心等待, 请在控制台上查看状态')\n",
    "\n",
    "response = client.create_endpoint(\n",
    "    EndpointName=endpoint_name,\n",
    "    EndpointConfigName=endpoint_config_name,\n",
    ")\n",
    "\n"
   ]
  },
  {
   "cell_type": "markdown",
   "id": "2ddc1b48",
   "metadata": {
    "tags": []
   },
   "source": [
    "* 检查endpoint 状态"
   ]
  },
  {
   "cell_type": "code",
   "execution_count": null,
   "id": "d217375b",
   "metadata": {},
   "outputs": [],
   "source": [
    "import time\n",
    "def check_sendpoint_status(endpoint_name,timeout=600):\n",
    "    client = boto3.client('sagemaker')\n",
    "    current_time=0\n",
    "    while current_time<timeout:\n",
    "        client = boto3.client('sagemaker')\n",
    "        try:\n",
    "            response = client.describe_endpoint(\n",
    "            EndpointName=endpoint_name\n",
    "            )\n",
    "            if response['EndpointStatus'] !='InService':\n",
    "                raise Exception (f'{endpoint_name} not ready , please wait....')\n",
    "        except Exception as ex:\n",
    "            print(f'{endpoint_name} not ready , please wait....')\n",
    "            time.sleep(10)\n",
    "        else:\n",
    "            status = response['EndpointStatus']\n",
    "            print(f'{endpoint_name} is ready, status: {status}')\n",
    "            break\n",
    "\n",
    "check_sendpoint_status(endpoint_name)"
   ]
  },
  {
   "cell_type": "markdown",
   "id": "ab7868e7",
   "metadata": {
    "tags": []
   },
   "source": [
    "## 4.测试"
   ]
  },
  {
   "cell_type": "markdown",
   "id": "c73894c5-1667-4daf-9cc3-51d7fe983368",
   "metadata": {
    "tags": []
   },
   "source": [
    "#### 4.1 创建测试辅助方法 "
   ]
  },
  {
   "cell_type": "code",
   "execution_count": null,
   "id": "938f36fc-ef9b-4eed-afa5-4f2b81967b6b",
   "metadata": {},
   "outputs": [],
   "source": [
    "import time\n",
    "import datetime\n",
    "import uuid\n",
    "import io\n",
    "import traceback\n",
    "from PIL import Image\n",
    "import boto3\n",
    "import json\n",
    "\n",
    "\n",
    "s3_resource = boto3.resource('s3')\n",
    "\n",
    "def get_bucket_and_key(s3uri):\n",
    "    pos = s3uri.find('/', 5)\n",
    "    bucket = s3uri[5 : pos]\n",
    "    key = s3uri[pos + 1 : ]\n",
    "    return bucket, key\n",
    "\n",
    "\n",
    "def predict(endpoint_name,payload):\n",
    "    runtime_client = boto3.client('runtime.sagemaker')\n",
    "    response = runtime_client.invoke_endpoint_async(\n",
    "        EndpointName=endpoint_name,\n",
    "        ContentType='application/json',\n",
    "        Body=json.dumps(payload)\n",
    "    )\n",
    "    print(response)\n",
    "    result = json.loads(response['Body'].read().decode())\n",
    "    print(result)\n",
    "    return result\n",
    "\n",
    "\n",
    "def show_image(result):\n",
    "    try:\n",
    "        predictions = json.loads(result)\n",
    "        print(predictions['result'])\n",
    "        for image in predictions['result']:\n",
    "            bucket, key = get_bucket_and_key(image)\n",
    "            obj = s3_resource.Object(bucket, key)\n",
    "            bytes = obj.get()['Body'].read()\n",
    "            image = Image.open(io.BytesIO(bytes))\n",
    "            #resize image to 50% size\n",
    "            half = 0.5\n",
    "            out_image = image.resize( [int(half * s) for s in image.size] )\n",
    "            out_image.show()\n",
    "    except Exception as e:\n",
    "        print(\"result is not completed, waiting...\")\n",
    "\n",
    "\n",
    "def show_gif(result):\n",
    "    import base64\n",
    "    from IPython import display\n",
    "    try:\n",
    "        predictions = json.loads(result)\n",
    "        print(predictions['result'])\n",
    "        s3_file_path = predictions['result']\n",
    "        bucket, key = get_bucket_and_key(s3_file_path)\n",
    "        timestamp = datetime.datetime.now().strftime('%Y%m%d%H%M%S')\n",
    "        local_file_path=\"./ComfyUI_\"+timestamp+\".gif\"\n",
    "        s3.download_file(bucket_name, key, local_file_path)\n",
    "        with open(local_file_path, 'rb') as fd:\n",
    "            b64 = base64.b64encode(fd.read()).decode('ascii')\n",
    "        return display.HTML(f'<img src=\"data:image/gif;base64,{b64}\" />')\n",
    "    except Exception as e:\n",
    "        print(\"result is not completed, waiting...\")\n",
    "\n",
    "\n",
    "def check_sendpoint_status(endpoint_name,timeout=600):\n",
    "    client = boto3.client('sagemaker')\n",
    "    current_time=0\n",
    "    while current_time<timeout:\n",
    "        client = boto3.client('sagemaker')\n",
    "        try:\n",
    "            response = client.describe_endpoint(\n",
    "            EndpointName=endpoint_name\n",
    "            )\n",
    "            if response['EndpointStatus'] !='InService':\n",
    "                raise Exception (f'{endpoint_name} not ready , please wait....')\n",
    "        except Exception as ex:\n",
    "            print(f'{endpoint_name} not ready , please wait....')\n",
    "            time.sleep(10)\n",
    "        else:\n",
    "            status = response['EndpointStatus']\n",
    "            print(f'{endpoint_name} is ready, status: {status}')\n",
    "            break"
   ]
  },
  {
   "cell_type": "markdown",
   "id": "a21e515e",
   "metadata": {
    "tags": []
   },
   "source": [
    "#### 4.2 测试ComfyUI 文生视频\n",
    "\n",
    "prompt从json文件加载"
   ]
  },
  {
   "cell_type": "code",
   "execution_count": null,
   "id": "c1a89797",
   "metadata": {},
   "outputs": [],
   "source": [
    "prompt_json_file=\"./workflow_api_lcm.json\"\n",
    "prompt_text=\"\"\n",
    "with open(prompt_json_file) as f:\n",
    "  prompt_text = json.load(f)\n",
    "\n",
    "client_id = str(uuid.uuid4())\n",
    "payload={\n",
    "     \"client_id\":client_id,\n",
    "     \"prompt\": prompt_text,\n",
    "     \"inference_type\":\"text2vid\"\n",
    "}\n",
    "\n",
    "predict(endpoint_name,payload)"
   ]
  },
  {
   "cell_type": "markdown",
   "id": "c7ac47b8",
   "metadata": {
    "tags": []
   },
   "source": [
    "### 5 清除资源"
   ]
  },
  {
   "cell_type": "code",
   "execution_count": null,
   "id": "e29d998d",
   "metadata": {},
   "outputs": [],
   "source": [
    "response = client.delete_endpoint(\n",
    "    EndpointName=endpoint_name\n",
    "    \n",
    ")\n",
    "\n",
    "response = client.delete_endpoint_config(\n",
    "    EndpointConfigName=endpoint_config_name\n",
    ")\n",
    "\n",
    "\n",
    "print(f'终端节点:{endpoint_name} 已经被清除，请在控制台上查看状态')\n"
   ]
  },
  {
   "cell_type": "code",
   "execution_count": null,
   "id": "220bad7e",
   "metadata": {},
   "outputs": [],
   "source": []
  }
 ],
 "metadata": {
  "kernelspec": {
   "display_name": "conda_pytorch_p310",
   "language": "python",
   "name": "conda_pytorch_p310"
  },
  "language_info": {
   "codemirror_mode": {
    "name": "ipython",
    "version": 3
   },
   "file_extension": ".py",
   "mimetype": "text/x-python",
   "name": "python",
   "nbconvert_exporter": "python",
   "pygments_lexer": "ipython3",
   "version": "3.10.12"
  }
 },
 "nbformat": 4,
 "nbformat_minor": 5
}
